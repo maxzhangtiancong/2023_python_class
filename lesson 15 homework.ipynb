{
 "cells": [
  {
   "cell_type": "code",
   "execution_count": 1,
   "id": "d8d1e391",
   "metadata": {},
   "outputs": [],
   "source": [
    "def myfunction(s,c):\n",
    "    x=len(s)\n",
    "    for i in range(x):\n",
    "        if s[i]==c:\n",
    "            return (i)\n",
    "    return (-1)\n",
    "        \n"
   ]
  },
  {
   "cell_type": "code",
   "execution_count": 2,
   "id": "0cb45908",
   "metadata": {},
   "outputs": [
    {
     "data": {
      "text/plain": [
       "0"
      ]
     },
     "execution_count": 2,
     "metadata": {},
     "output_type": "execute_result"
    }
   ],
   "source": [
    "myfunction('abcdddd', 'a')"
   ]
  },
  {
   "cell_type": "code",
   "execution_count": 3,
   "id": "f5935f4e",
   "metadata": {},
   "outputs": [
    {
     "data": {
      "text/plain": [
       "-1"
      ]
     },
     "execution_count": 3,
     "metadata": {},
     "output_type": "execute_result"
    }
   ],
   "source": [
    "myfunction('abcdddd', 'x')"
   ]
  },
  {
   "cell_type": "code",
   "execution_count": 4,
   "id": "fa2b6bcd",
   "metadata": {},
   "outputs": [
    {
     "data": {
      "text/plain": [
       "3"
      ]
     },
     "execution_count": 4,
     "metadata": {},
     "output_type": "execute_result"
    }
   ],
   "source": [
    "myfunction('abcdddd', 'd')"
   ]
  },
  {
   "cell_type": "code",
   "execution_count": null,
   "id": "86504560",
   "metadata": {},
   "outputs": [],
   "source": []
  }
 ],
 "metadata": {
  "kernelspec": {
   "display_name": "Python 3 (ipykernel)",
   "language": "python",
   "name": "python3"
  },
  "language_info": {
   "codemirror_mode": {
    "name": "ipython",
    "version": 3
   },
   "file_extension": ".py",
   "mimetype": "text/x-python",
   "name": "python",
   "nbconvert_exporter": "python",
   "pygments_lexer": "ipython3",
   "version": "3.11.5"
  }
 },
 "nbformat": 4,
 "nbformat_minor": 5
}
