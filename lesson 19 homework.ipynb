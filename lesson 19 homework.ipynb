{
 "cells": [
  {
   "cell_type": "code",
   "execution_count": 1,
   "id": "6f32db86",
   "metadata": {},
   "outputs": [
    {
     "name": "stdout",
     "output_type": "stream",
     "text": [
      "20\n"
     ]
    }
   ],
   "source": [
    "l=[2,3,12,6]\n",
    "sum_l=0\n",
    "for i in range(len(l)):\n",
    "    if l[i]%2==0:\n",
    "        sum_l=sum_l+l[i]\n",
    "print(sum_l) "
   ]
  },
  {
   "cell_type": "code",
   "execution_count": 2,
   "id": "3b7893a6",
   "metadata": {},
   "outputs": [
    {
     "name": "stdout",
     "output_type": "stream",
     "text": [
      "6\n"
     ]
    }
   ],
   "source": [
    "l=[5,1,4,9,2]\n",
    "sum_l=0\n",
    "for i in range(len(l)):\n",
    "    if l[i]%2==0:\n",
    "        sum_l=sum_l+l[i]\n",
    "print(sum_l) "
   ]
  },
  {
   "cell_type": "code",
   "execution_count": 3,
   "id": "57dda96e",
   "metadata": {},
   "outputs": [
    {
     "name": "stdout",
     "output_type": "stream",
     "text": [
      "0\n"
     ]
    }
   ],
   "source": [
    "l=[1,3,5,7,9]\n",
    "sum_l=0\n",
    "for i in range(len(l)):\n",
    "    if l[i]%2==0:\n",
    "        sum_l=sum_l+l[i]\n",
    "print(sum_l) "
   ]
  },
  {
   "cell_type": "code",
   "execution_count": 4,
   "id": "12e304bc",
   "metadata": {},
   "outputs": [
    {
     "name": "stdout",
     "output_type": "stream",
     "text": [
      "20\n"
     ]
    }
   ],
   "source": [
    "l=[2,4,6,8]\n",
    "sum_l=0\n",
    "for i in range(len(l)):\n",
    "    if l[i]%2==0:\n",
    "        sum_l=sum_l+l[i]\n",
    "print(sum_l) "
   ]
  },
  {
   "cell_type": "code",
   "execution_count": 19,
   "id": "66688f2f",
   "metadata": {},
   "outputs": [],
   "source": [
    "def sum_of_even(l):\n",
    "    sum_l=0\n",
    "    for i in range(len(l)):\n",
    "        if l[i]%2==0:\n",
    "            sum_l=sum_l+l[i]\n",
    "    return(sum_l) "
   ]
  },
  {
   "cell_type": "code",
   "execution_count": 20,
   "id": "4d0772e8",
   "metadata": {},
   "outputs": [
    {
     "ename": "TypeError",
     "evalue": "object of type 'function' has no len()",
     "output_type": "error",
     "traceback": [
      "\u001b[1;31m---------------------------------------------------------------------------\u001b[0m",
      "\u001b[1;31mTypeError\u001b[0m                                 Traceback (most recent call last)",
      "Cell \u001b[1;32mIn[20], line 1\u001b[0m\n\u001b[1;32m----> 1\u001b[0m sumlist(\u001b[38;5;241m1\u001b[39m,\u001b[38;5;241m3\u001b[39m,\u001b[38;5;241m9\u001b[39m,\u001b[38;5;241m2\u001b[39m,\u001b[38;5;241m4\u001b[39m)\n",
      "Cell \u001b[1;32mIn[13], line 3\u001b[0m, in \u001b[0;36msumlist\u001b[1;34m(a, b, c, d, e)\u001b[0m\n\u001b[0;32m      1\u001b[0m \u001b[38;5;28;01mdef\u001b[39;00m \u001b[38;5;21msumlist\u001b[39m(a,b,c,d,e):\n\u001b[0;32m      2\u001b[0m     sum_l\u001b[38;5;241m=\u001b[39m\u001b[38;5;241m0\u001b[39m\n\u001b[1;32m----> 3\u001b[0m     \u001b[38;5;28;01mfor\u001b[39;00m i \u001b[38;5;129;01min\u001b[39;00m \u001b[38;5;28mrange\u001b[39m(\u001b[38;5;28mlen\u001b[39m(l)):\n\u001b[0;32m      4\u001b[0m         \u001b[38;5;28;01mif\u001b[39;00m l[i]\u001b[38;5;241m%\u001b[39m\u001b[38;5;241m2\u001b[39m\u001b[38;5;241m==\u001b[39m\u001b[38;5;241m0\u001b[39m:\n\u001b[0;32m      5\u001b[0m             sum_l\u001b[38;5;241m=\u001b[39msum_l\u001b[38;5;241m+\u001b[39ml[i]\n",
      "\u001b[1;31mTypeError\u001b[0m: object of type 'function' has no len()"
     ]
    }
   ],
   "source": [
    "mylist=(1,2,3,4,5)"
   ]
  },
  {
   "cell_type": "code",
   "execution_count": 21,
   "id": "97440328",
   "metadata": {},
   "outputs": [
    {
     "name": "stdout",
     "output_type": "stream",
     "text": [
      "abc\n"
     ]
    }
   ],
   "source": [
    "a = 'abc'\n",
    "print(a)"
   ]
  }
 ],
 "metadata": {
  "kernelspec": {
   "display_name": "Python 3 (ipykernel)",
   "language": "python",
   "name": "python3"
  },
  "language_info": {
   "codemirror_mode": {
    "name": "ipython",
    "version": 3
   },
   "file_extension": ".py",
   "mimetype": "text/x-python",
   "name": "python",
   "nbconvert_exporter": "python",
   "pygments_lexer": "ipython3",
   "version": "3.11.5"
  }
 },
 "nbformat": 4,
 "nbformat_minor": 5
}
