{
 "cells": [
  {
   "cell_type": "code",
   "execution_count": 19,
   "id": "19620e28",
   "metadata": {},
   "outputs": [],
   "source": [
    "def sum_of_even(l):\n",
    "    sum_l=0\n",
    "    for i in range(len(l)):\n",
    "        if l[i]%2==0:\n",
    "            sum_l=sum_l+l[i]\n",
    "    return(sum_l) "
   ]
  },
  {
   "cell_type": "code",
   "execution_count": 22,
   "id": "f620f4eb",
   "metadata": {},
   "outputs": [
    {
     "data": {
      "text/plain": [
       "6"
      ]
     },
     "execution_count": 22,
     "metadata": {},
     "output_type": "execute_result"
    }
   ],
   "source": [
    "mylist=(1,2,3,4,5)\n",
    "sum_of_even(mylist)"
   ]
  },
  {
   "cell_type": "code",
   "execution_count": 23,
   "id": "ac5ea1af",
   "metadata": {},
   "outputs": [
    {
     "data": {
      "text/plain": [
       "20"
      ]
     },
     "execution_count": 23,
     "metadata": {},
     "output_type": "execute_result"
    }
   ],
   "source": [
    "mylist=(2,4,6,8)\n",
    "sum_of_even(mylist)"
   ]
  },
  {
   "cell_type": "code",
   "execution_count": 24,
   "id": "42e1cbc4",
   "metadata": {},
   "outputs": [
    {
     "data": {
      "text/plain": [
       "0"
      ]
     },
     "execution_count": 24,
     "metadata": {},
     "output_type": "execute_result"
    }
   ],
   "source": [
    "mylist=(1,3,9)\n",
    "sum_of_even(mylist)"
   ]
  },
  {
   "cell_type": "code",
   "execution_count": null,
   "id": "3077fa7c",
   "metadata": {},
   "outputs": [],
   "source": []
  }
 ],
 "metadata": {
  "kernelspec": {
   "display_name": "Python 3 (ipykernel)",
   "language": "python",
   "name": "python3"
  },
  "language_info": {
   "codemirror_mode": {
    "name": "ipython",
    "version": 3
   },
   "file_extension": ".py",
   "mimetype": "text/x-python",
   "name": "python",
   "nbconvert_exporter": "python",
   "pygments_lexer": "ipython3",
   "version": "3.11.5"
  }
 },
 "nbformat": 4,
 "nbformat_minor": 5
}
