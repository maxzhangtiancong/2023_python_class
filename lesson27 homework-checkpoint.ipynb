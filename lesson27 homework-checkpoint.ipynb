{
 "cells": [
  {
   "cell_type": "code",
   "execution_count": 5,
   "id": "ceef4e35",
   "metadata": {},
   "outputs": [
    {
     "data": {
      "text/plain": [
       "'C:\\\\Users\\\\maxzh_t4cjme9'"
      ]
     },
     "execution_count": 5,
     "metadata": {},
     "output_type": "execute_result"
    }
   ],
   "source": [
    "import os\n",
    "os.getcwd()"
   ]
  },
  {
   "cell_type": "code",
   "execution_count": 5,
   "id": "c9a1a72e",
   "metadata": {},
   "outputs": [],
   "source": [
    "\n",
    "import csv\n",
    "\n",
    "def create_dictionary_from_csv(file_path, key_column, value_column):\n",
    "    data = {}\n",
    "    with open(file_path, 'r') as csvfile:\n",
    "        reader = csv.DictReader(csvfile)\n",
    "        for row in reader:\n",
    "            key = row[key_column]\n",
    "            value = row[value_column]\n",
    "            data[keys] = value\n",
    "    return data"
   ]
  },
  {
   "cell_type": "code",
   "execution_count": 6,
   "id": "524c47d6",
   "metadata": {},
   "outputs": [
    {
     "ename": "KeyError",
     "evalue": "'keys'",
     "output_type": "error",
     "traceback": [
      "\u001b[1;31m---------------------------------------------------------------------------\u001b[0m",
      "\u001b[1;31mKeyError\u001b[0m                                  Traceback (most recent call last)",
      "Cell \u001b[1;32mIn[6], line 5\u001b[0m\n\u001b[0;32m      2\u001b[0m key_column \u001b[38;5;241m=\u001b[39m \u001b[38;5;124m'\u001b[39m\u001b[38;5;124mkeys\u001b[39m\u001b[38;5;124m'\u001b[39m\n\u001b[0;32m      3\u001b[0m value_column \u001b[38;5;241m=\u001b[39m \u001b[38;5;124m\"\u001b[39m\u001b[38;5;124mLegendary\u001b[39m\u001b[38;5;124m\"\u001b[39m\n\u001b[1;32m----> 5\u001b[0m csv_data \u001b[38;5;241m=\u001b[39m create_dictionary_from_csv(file_path, key_column, value_column)\n\u001b[0;32m      6\u001b[0m \u001b[38;5;28mprint\u001b[39m(csv_data)\n",
      "Cell \u001b[1;32mIn[5], line 8\u001b[0m, in \u001b[0;36mcreate_dictionary_from_csv\u001b[1;34m(file_path, key_column, value_column)\u001b[0m\n\u001b[0;32m      6\u001b[0m reader \u001b[38;5;241m=\u001b[39m csv\u001b[38;5;241m.\u001b[39mDictReader(csvfile)\n\u001b[0;32m      7\u001b[0m \u001b[38;5;28;01mfor\u001b[39;00m row \u001b[38;5;129;01min\u001b[39;00m reader:\n\u001b[1;32m----> 8\u001b[0m     key \u001b[38;5;241m=\u001b[39m row[key_column]\n\u001b[0;32m      9\u001b[0m     value \u001b[38;5;241m=\u001b[39m row[value_column]\n\u001b[0;32m     10\u001b[0m     data[keys] \u001b[38;5;241m=\u001b[39m value\n",
      "\u001b[1;31mKeyError\u001b[0m: 'keys'"
     ]
    }
   ],
   "source": [
    "file_path = \"pokemon.csv\"\n",
    "key_column = 'keys'\n",
    "value_column = \"Legendary\"\n",
    "\n",
    "csv_data = create_dictionary_from_csv(file_path, key_column, value_column)\n",
    "print(csv_data)"
   ]
  },
  {
   "cell_type": "code",
   "execution_count": null,
   "id": "0fb0242e",
   "metadata": {},
   "outputs": [],
   "source": []
  },
  {
   "cell_type": "code",
   "execution_count": null,
   "id": "13b54b8f",
   "metadata": {},
   "outputs": [],
   "source": []
  }
 ],
 "metadata": {
  "kernelspec": {
   "display_name": "Python 3 (ipykernel)",
   "language": "python",
   "name": "python3"
  },
  "language_info": {
   "codemirror_mode": {
    "name": "ipython",
    "version": 3
   },
   "file_extension": ".py",
   "mimetype": "text/x-python",
   "name": "python",
   "nbconvert_exporter": "python",
   "pygments_lexer": "ipython3",
   "version": "3.11.5"
  }
 },
 "nbformat": 4,
 "nbformat_minor": 5
}
