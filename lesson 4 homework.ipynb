{
 "cells": [
  {
   "cell_type": "code",
   "execution_count": 8,
   "id": "2ffb56b9",
   "metadata": {},
   "outputs": [],
   "source": [
    "def calculate_area():\n",
    "    width=input(\"what is the width of your shape\")\n",
    "    lenth=input(\"what is the lenth of your shape\")\n",
    "    width=float(width)\n",
    "    lenth=float(lenth)\n",
    "    print(width*lenth)"
   ]
  },
  {
   "cell_type": "code",
   "execution_count": 9,
   "id": "4ce50256",
   "metadata": {},
   "outputs": [
    {
     "name": "stdout",
     "output_type": "stream",
     "text": [
      "what is the width of your shape9\n",
      "what is the lenth of your shape9\n",
      "81.0\n"
     ]
    }
   ],
   "source": [
    "calculate_area()"
   ]
  },
  {
   "cell_type": "code",
   "execution_count": 17,
   "id": "a1f399ce",
   "metadata": {},
   "outputs": [],
   "source": [
    "def calculate_triangle_area():\n",
    "    base=input(\"what is the base of your triangle? \")\n",
    "    height=input(\"what is the height of your triangle? \")\n",
    "    base=float(base)\n",
    "    height=float(height)\n",
    "    print(base*height/2)"
   ]
  },
  {
   "cell_type": "code",
   "execution_count": 18,
   "id": "f7548dd1",
   "metadata": {},
   "outputs": [
    {
     "name": "stdout",
     "output_type": "stream",
     "text": [
      "what is the base of your triangle? 9\n",
      "what is the height of your triangle? 8\n",
      "36.0\n"
     ]
    }
   ],
   "source": [
    "calculate_triangle_area()"
   ]
  }
 ],
 "metadata": {
  "kernelspec": {
   "display_name": "Python 3 (ipykernel)",
   "language": "python",
   "name": "python3"
  },
  "language_info": {
   "codemirror_mode": {
    "name": "ipython",
    "version": 3
   },
   "file_extension": ".py",
   "mimetype": "text/x-python",
   "name": "python",
   "nbconvert_exporter": "python",
   "pygments_lexer": "ipython3",
   "version": "3.11.4"
  }
 },
 "nbformat": 4,
 "nbformat_minor": 5
}
