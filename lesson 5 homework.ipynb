{
 "cells": [
  {
   "cell_type": "code",
   "execution_count": 6,
   "id": "2cc43838",
   "metadata": {},
   "outputs": [
    {
     "data": {
      "text/plain": [
       "990.0000000000001"
      ]
     },
     "execution_count": 6,
     "metadata": {},
     "output_type": "execute_result"
    }
   ],
   "source": [
    "def wallpapercost(width,length,costofwallpaper,discount,taxrate):\n",
    "    area=width*length\n",
    "    totalcost=area*costofwallpaper*discount*(taxrate+1)\n",
    "    return(totalcost)\n",
    "    \n",
    "wallpapercost(10,10,10,0.9,0.1)"
   ]
  },
  {
   "cell_type": "code",
   "execution_count": null,
   "id": "691686ca",
   "metadata": {},
   "outputs": [],
   "source": []
  }
 ],
 "metadata": {
  "kernelspec": {
   "display_name": "Python 3 (ipykernel)",
   "language": "python",
   "name": "python3"
  },
  "language_info": {
   "codemirror_mode": {
    "name": "ipython",
    "version": 3
   },
   "file_extension": ".py",
   "mimetype": "text/x-python",
   "name": "python",
   "nbconvert_exporter": "python",
   "pygments_lexer": "ipython3",
   "version": "3.11.4"
  }
 },
 "nbformat": 4,
 "nbformat_minor": 5
}
