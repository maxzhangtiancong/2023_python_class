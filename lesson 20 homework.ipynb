{
 "cells": [
  {
   "cell_type": "code",
   "execution_count": 71,
   "id": "2769e480",
   "metadata": {},
   "outputs": [],
   "source": [
    "def list_into_new_list(t):\n",
    "    s = []\n",
    "    for i in t:\n",
    "        if i not in s:\n",
    "            s.append(i)\n",
    "    return(s)\n",
    "\n",
    "\n",
    "    \n"
   ]
  },
  {
   "cell_type": "code",
   "execution_count": 74,
   "id": "84756fbe",
   "metadata": {},
   "outputs": [
    {
     "data": {
      "text/plain": [
       "[1, 2, 3, 4]"
      ]
     },
     "execution_count": 74,
     "metadata": {},
     "output_type": "execute_result"
    }
   ],
   "source": [
    "a=[1,2,3,4,1,2,3]  \n",
    "list_into_new_list(a)"
   ]
  },
  {
   "cell_type": "code",
   "execution_count": 75,
   "id": "a4ee6550",
   "metadata": {},
   "outputs": [
    {
     "data": {
      "text/plain": [
       "[1, 3, 5, 6]"
      ]
     },
     "execution_count": 75,
     "metadata": {},
     "output_type": "execute_result"
    }
   ],
   "source": [
    "    a=[1,3,1,5,1,6]  \n",
    "list_into_new_list(a)"
   ]
  },
  {
   "cell_type": "code",
   "execution_count": null,
   "id": "b0aafd88",
   "metadata": {},
   "outputs": [],
   "source": []
  }
 ],
 "metadata": {
  "kernelspec": {
   "display_name": "Python 3 (ipykernel)",
   "language": "python",
   "name": "python3"
  },
  "language_info": {
   "codemirror_mode": {
    "name": "ipython",
    "version": 3
   },
   "file_extension": ".py",
   "mimetype": "text/x-python",
   "name": "python",
   "nbconvert_exporter": "python",
   "pygments_lexer": "ipython3",
   "version": "3.11.5"
  }
 },
 "nbformat": 4,
 "nbformat_minor": 5
}
