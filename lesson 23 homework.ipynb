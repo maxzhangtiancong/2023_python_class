{
 "cells": [
  {
   "cell_type": "code",
   "execution_count": 3,
   "id": "65137fff",
   "metadata": {},
   "outputs": [],
   "source": [
    "def find_keys_by_value(dictionary, x):\n",
    "    keys = []\n",
    "    for key, val in dictionary.items():\n",
    "        if val == value:\n",
    "            keys.append(key)\n",
    "    return keys"
   ]
  },
  {
   "cell_type": "code",
   "execution_count": 5,
   "id": "fbff8895",
   "metadata": {},
   "outputs": [
    {
     "data": {
      "text/plain": [
       "['grape']"
      ]
     },
     "execution_count": 5,
     "metadata": {},
     "output_type": "execute_result"
    }
   ],
   "source": [
    "dictionary = {'apple': 5, 'banana': 3, 'orange': 5, 'grape': 2, 'kiwi': 5}\n",
    "find_keys_by_value(dictionary,2)\n"
   ]
  },
  {
   "cell_type": "code",
   "execution_count": 6,
   "id": "fd0377ce",
   "metadata": {},
   "outputs": [
    {
     "data": {
      "text/plain": [
       "['apple', 'orange', 'kiwi']"
      ]
     },
     "execution_count": 6,
     "metadata": {},
     "output_type": "execute_result"
    }
   ],
   "source": [
    "dictionary = {'apple': 5, 'banana': 3, 'orange': 5, 'grape': 2, 'kiwi': 5}\n",
    "find_keys_by_value(dictionary,5)"
   ]
  },
  {
   "cell_type": "code",
   "execution_count": 7,
   "id": "174b38c2",
   "metadata": {},
   "outputs": [
    {
     "data": {
      "text/plain": [
       "[]"
      ]
     },
     "execution_count": 7,
     "metadata": {},
     "output_type": "execute_result"
    }
   ],
   "source": [
    "dictionary = {'apple': 5, 'banana': 3, 'orange': 5, 'grape': 2, 'kiwi': 5}\n",
    "find_keys_by_value(dictionary,7)"
   ]
  },
  {
   "cell_type": "code",
   "execution_count": null,
   "id": "931a8b58",
   "metadata": {},
   "outputs": [],
   "source": []
  }
 ],
 "metadata": {
  "kernelspec": {
   "display_name": "Python 3 (ipykernel)",
   "language": "python",
   "name": "python3"
  },
  "language_info": {
   "codemirror_mode": {
    "name": "ipython",
    "version": 3
   },
   "file_extension": ".py",
   "mimetype": "text/x-python",
   "name": "python",
   "nbconvert_exporter": "python",
   "pygments_lexer": "ipython3",
   "version": "3.11.5"
  }
 },
 "nbformat": 4,
 "nbformat_minor": 5
}
