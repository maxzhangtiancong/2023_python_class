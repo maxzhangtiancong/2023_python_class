{
 "cells": [
  {
   "cell_type": "code",
   "execution_count": null,
   "id": "2a9390ad",
   "metadata": {
    "scrolled": true
   },
   "outputs": [],
   "source": [
    "total=input(\"How much did your dinner cost? \")\n",
    "total=float(total)\n",
    "tip=input(\"How much tip percentage do you wantt pay? \")\n",
    "tip=float(tip)\n",
    "tipamount = total*tip\n",
    "print('Your tip will be',tipamount,\"dollars\")\n"
   ]
  },
  {
   "cell_type": "code",
   "execution_count": null,
   "id": "88f129cc",
   "metadata": {},
   "outputs": [],
   "source": []
  },
  {
   "cell_type": "code",
   "execution_count": null,
   "id": "be70faa8",
   "metadata": {},
   "outputs": [],
   "source": []
  }
 ],
 "metadata": {
  "kernelspec": {
   "display_name": "Python 3 (ipykernel)",
   "language": "python",
   "name": "python3"
  },
  "language_info": {
   "codemirror_mode": {
    "name": "ipython",
    "version": 3
   },
   "file_extension": ".py",
   "mimetype": "text/x-python",
   "name": "python",
   "nbconvert_exporter": "python",
   "pygments_lexer": "ipython3",
   "version": "3.11.4"
  }
 },
 "nbformat": 4,
 "nbformat_minor": 5
}
