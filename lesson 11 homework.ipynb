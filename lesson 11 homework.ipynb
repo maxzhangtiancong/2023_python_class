{
 "cells": [
  {
   "cell_type": "code",
   "execution_count": 2,
   "id": "59c36605",
   "metadata": {},
   "outputs": [
    {
     "name": "stdout",
     "output_type": "stream",
     "text": [
      "24  is divisible by 4 and 6\n",
      "6 is divisible by 6\n",
      "4 is divisible by 4\n",
      "i am not that smart, i have no idea\n"
     ]
    }
   ],
   "source": [
    "def is_it_divisible_by4_or_6(x):\n",
    "    if(not x%12):\n",
    "        print (x, ' is divisible by 4 and 6') \n",
    "        return\n",
    "    if(not x%4) :\n",
    "        print (x, 'is divisible by 4')\n",
    "        return\n",
    "    if(not x%6) :\n",
    "        print(x, \"is divisible by 6\")   \n",
    "    else:\n",
    "        print(\"i am not that smart, i have no idea\")\n",
    "is_it_divisible_by4_or_6(24)\n",
    "is_it_divisible_by4_or_6(6)\n",
    "is_it_divisible_by4_or_6(4)\n",
    "is_it_divisible_by4_or_6(7)"
   ]
  },
  {
   "cell_type": "code",
   "execution_count": null,
   "id": "100ee141",
   "metadata": {},
   "outputs": [],
   "source": []
  }
 ],
 "metadata": {
  "kernelspec": {
   "display_name": "Python 3 (ipykernel)",
   "language": "python",
   "name": "python3"
  },
  "language_info": {
   "codemirror_mode": {
    "name": "ipython",
    "version": 3
   },
   "file_extension": ".py",
   "mimetype": "text/x-python",
   "name": "python",
   "nbconvert_exporter": "python",
   "pygments_lexer": "ipython3",
   "version": "3.11.5"
  }
 },
 "nbformat": 4,
 "nbformat_minor": 5
}
