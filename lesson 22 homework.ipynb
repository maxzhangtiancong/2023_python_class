{
 "cells": [
  {
   "cell_type": "code",
   "execution_count": 1,
   "id": "87435df2",
   "metadata": {},
   "outputs": [],
   "source": [
    "def histogram(s):\n",
    "    d={}\n",
    "    for letter in s:\n",
    "       \n",
    "        if letter not in d:\n",
    "            d[letter]=1\n",
    "        else:\n",
    "            d[letter]=d[letter]+1\n",
    "    return d\n",
    "    \n"
   ]
  },
  {
   "cell_type": "code",
   "execution_count": 2,
   "id": "76d793b3",
   "metadata": {},
   "outputs": [
    {
     "data": {
      "text/plain": [
       "{'a': 3}"
      ]
     },
     "execution_count": 2,
     "metadata": {},
     "output_type": "execute_result"
    }
   ],
   "source": [
    "histogram('aaa')"
   ]
  },
  {
   "cell_type": "code",
   "execution_count": 3,
   "id": "aa4e3bc2",
   "metadata": {},
   "outputs": [
    {
     "data": {
      "text/plain": [
       "{'b': 1, 'c': 1, 'a': 1, 'd': 1, 'f': 1}"
      ]
     },
     "execution_count": 3,
     "metadata": {},
     "output_type": "execute_result"
    }
   ],
   "source": [
    "histogram('bcadf')"
   ]
  },
  {
   "cell_type": "code",
   "execution_count": 4,
   "id": "8c1a5761",
   "metadata": {},
   "outputs": [
    {
     "data": {
      "text/plain": [
       "{}"
      ]
     },
     "execution_count": 4,
     "metadata": {},
     "output_type": "execute_result"
    }
   ],
   "source": [
    "histogram('')"
   ]
  },
  {
   "cell_type": "code",
   "execution_count": 5,
   "id": "0f056a79",
   "metadata": {},
   "outputs": [
    {
     "data": {
      "text/plain": [
       "{'b': 2, 'a': 2, 'v': 1, 'c': 2}"
      ]
     },
     "execution_count": 5,
     "metadata": {},
     "output_type": "execute_result"
    }
   ],
   "source": [
    "histogram('bbaavcc')"
   ]
  },
  {
   "cell_type": "code",
   "execution_count": 6,
   "id": "d7341c1a",
   "metadata": {},
   "outputs": [
    {
     "data": {
      "text/plain": [
       "{'a': 1}"
      ]
     },
     "execution_count": 6,
     "metadata": {},
     "output_type": "execute_result"
    }
   ],
   "source": [
    "histogram('a')"
   ]
  },
  {
   "cell_type": "code",
   "execution_count": null,
   "id": "ed24a94e",
   "metadata": {},
   "outputs": [],
   "source": []
  }
 ],
 "metadata": {
  "kernelspec": {
   "display_name": "Python 3 (ipykernel)",
   "language": "python",
   "name": "python3"
  },
  "language_info": {
   "codemirror_mode": {
    "name": "ipython",
    "version": 3
   },
   "file_extension": ".py",
   "mimetype": "text/x-python",
   "name": "python",
   "nbconvert_exporter": "python",
   "pygments_lexer": "ipython3",
   "version": "3.11.5"
  }
 },
 "nbformat": 4,
 "nbformat_minor": 5
}
