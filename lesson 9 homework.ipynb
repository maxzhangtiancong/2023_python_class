{
 "cells": [
  {
   "cell_type": "code",
   "execution_count": 9,
   "id": "35d583fd",
   "metadata": {},
   "outputs": [
    {
     "name": "stdout",
     "output_type": "stream",
     "text": [
      "how expensive is this item?dw\n",
      "just bring some money, i dont care how much!\n"
     ]
    }
   ],
   "source": [
    "price=input('how expensive is this item?')\n",
    "if price =='expensive':\n",
    "    print('bring lots of money!')\n",
    "if price =='cheap':\n",
    "    print(' bring 5 bucks!')\n",
    "if price == 'very cheap':\n",
    "    print('bring 1 dollar')\n",
    "if price == 'very expensive':\n",
    "    print('bring a ton of money')\n",
    "else:\n",
    "    print('just bring some money, i dont care how much!')"
   ]
  },
  {
   "cell_type": "code",
   "execution_count": null,
   "id": "d57db7ef",
   "metadata": {},
   "outputs": [],
   "source": []
  },
  {
   "cell_type": "code",
   "execution_count": null,
   "id": "bc8bfd2b",
   "metadata": {},
   "outputs": [],
   "source": []
  }
 ],
 "metadata": {
  "kernelspec": {
   "display_name": "Python 3 (ipykernel)",
   "language": "python",
   "name": "python3"
  },
  "language_info": {
   "codemirror_mode": {
    "name": "ipython",
    "version": 3
   },
   "file_extension": ".py",
   "mimetype": "text/x-python",
   "name": "python",
   "nbconvert_exporter": "python",
   "pygments_lexer": "ipython3",
   "version": "3.10.9"
  }
 },
 "nbformat": 4,
 "nbformat_minor": 5
}
