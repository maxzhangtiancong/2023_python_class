{
 "cells": [
  {
   "cell_type": "code",
   "execution_count": 1,
   "id": "8f73a0b5",
   "metadata": {},
   "outputs": [],
   "source": [
    "def plotTurtle(color):\n",
    "    import turtle\n",
    "    a = turtle.Turtle()\n",
    "    b = turtle.Turtle()\n",
    "    a.shape(\"circle\")\n",
    "    a.color(color)\n",
    "    b.shape(\"circle\")\n",
    "    b.color('red')\n",
    "    for i in range(6):\n",
    "      a.forward(200)\n",
    "      a.left(60)\n",
    "    for i in range(4):\n",
    "      b.forward(50)\n",
    "      b.left(90)  \n",
    "    for i in range(5):\n",
    "      a.circle(50)\n",
    "      a.forward(35)\n",
    "\n",
    "    for i in range(20): \n",
    "      a .forward(50)\n",
    "      a.left(18)\n",
    "    for i in range(4):\n",
    "      b.forward(100)\n",
    "      b.left(90)  \n",
    "    for i in range(4):\n",
    "      b.forward(150)\n",
    "      b.left(90)\n",
    "    for i in range(4):\n",
    "      b.forward(200)\n",
    "      b.left(90)\n",
    "    for i in range(4):\n",
    "      b.forward(250)\n",
    "      b.left(90)\n",
    "    for i in range(4):\n",
    "      b.forward(300)\n",
    "      b.left(90)\n",
    "\n"
   ]
  },
  {
   "cell_type": "code",
   "execution_count": 4,
   "id": "eb223af6",
   "metadata": {},
   "outputs": [],
   "source": [
    "plotTurtle('black')"
   ]
  },
  {
   "cell_type": "code",
   "execution_count": 2,
   "id": "52c87d1f",
   "metadata": {},
   "outputs": [],
   "source": [
    "plotTurtle('green')"
   ]
  },
  {
   "cell_type": "code",
   "execution_count": null,
   "id": "74ba5a8b",
   "metadata": {},
   "outputs": [],
   "source": [
    "turtle.bye()"
   ]
  },
  {
   "cell_type": "markdown",
   "id": "96904ec4",
   "metadata": {},
   "source": [
    "sayHello()"
   ]
  }
 ],
 "metadata": {
  "kernelspec": {
   "display_name": "Python 3 (ipykernel)",
   "language": "python",
   "name": "python3"
  },
  "language_info": {
   "codemirror_mode": {
    "name": "ipython",
    "version": 3
   },
   "file_extension": ".py",
   "mimetype": "text/x-python",
   "name": "python",
   "nbconvert_exporter": "python",
   "pygments_lexer": "ipython3",
   "version": "3.11.4"
  }
 },
 "nbformat": 4,
 "nbformat_minor": 5
}
