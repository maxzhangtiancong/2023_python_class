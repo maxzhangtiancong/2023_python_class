{
 "cells": [
  {
   "cell_type": "code",
   "execution_count": 4,
   "id": "d5c89a9f",
   "metadata": {},
   "outputs": [],
   "source": [
    "import turtle"
   ]
  },
  {
   "cell_type": "code",
   "execution_count": 10,
   "id": "fb5d164f",
   "metadata": {},
   "outputs": [],
   "source": [
    "import turtle\n",
    "\n",
    "t = turtle.Turtle()\n",
    "\n",
    "def draw_triangle(side_length):\n",
    "    for i in range(0,50):\n",
    "        t.forward(side_length)\n",
    "        t.right(120)\n",
    "        t.right (5)\n",
    "draw_triangle(100)\n",
    "turtle.mainloop()"
   ]
  }
 ],
 "metadata": {
  "kernelspec": {
   "display_name": "Python 3 (ipykernel)",
   "language": "python",
   "name": "python3"
  },
  "language_info": {
   "codemirror_mode": {
    "name": "ipython",
    "version": 3
   },
   "file_extension": ".py",
   "mimetype": "text/x-python",
   "name": "python",
   "nbconvert_exporter": "python",
   "pygments_lexer": "ipython3",
   "version": "3.11.4"
  }
 },
 "nbformat": 4,
 "nbformat_minor": 5
}
