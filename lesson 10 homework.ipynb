{
 "cells": [
  {
   "cell_type": "code",
   "execution_count": 21,
   "id": "0aee7c3c",
   "metadata": {},
   "outputs": [
    {
     "name": "stdout",
     "output_type": "stream",
     "text": [
      "it is divisible by 4 and 6\n"
     ]
    }
   ],
   "source": [
    "def is_it_divisible_by4_or_6(x):\n",
    "    if(x%12) :\n",
    "        print ('it is not divisible by 4 and 6')\n",
    "    else:\n",
    "        print(\"it is divisible by 4 and 6\")\n",
    "is_it_divisible_by4_or_6(12)"
   ]
  },
  {
   "cell_type": "code",
   "execution_count": 22,
   "id": "85274819",
   "metadata": {},
   "outputs": [
    {
     "name": "stdout",
     "output_type": "stream",
     "text": [
      "it is not divisible by 4 and 6\n"
     ]
    }
   ],
   "source": [
    "def is_it_divisible_by4_or_6(x):\n",
    "    if(x%12) :\n",
    "        print ('it is not divisible by 4 and 6')\n",
    "    else:\n",
    "        print(\"it is divisible by 4 and 6\")\n",
    "is_it_divisible_by4_or_6(99)"
   ]
  },
  {
   "cell_type": "code",
   "execution_count": 23,
   "id": "e2816d75",
   "metadata": {},
   "outputs": [
    {
     "name": "stdout",
     "output_type": "stream",
     "text": [
      "it is not divisible by 4 and 6\n"
     ]
    }
   ],
   "source": [
    "def is_it_divisible_by4_or_6(x):\n",
    "    if(x%12) :\n",
    "        print ('it is not divisible by 4 and 6')\n",
    "    else:\n",
    "        print(\"it is divisible by 4 and 6\")\n",
    "is_it_divisible_by4_or_6(1000)"
   ]
  },
  {
   "cell_type": "code",
   "execution_count": null,
   "id": "59c36605",
   "metadata": {},
   "outputs": [],
   "source": []
  }
 ],
 "metadata": {
  "kernelspec": {
   "display_name": "Python 3 (ipykernel)",
   "language": "python",
   "name": "python3"
  },
  "language_info": {
   "codemirror_mode": {
    "name": "ipython",
    "version": 3
   },
   "file_extension": ".py",
   "mimetype": "text/x-python",
   "name": "python",
   "nbconvert_exporter": "python",
   "pygments_lexer": "ipython3",
   "version": "3.10.9"
  }
 },
 "nbformat": 4,
 "nbformat_minor": 5
}
