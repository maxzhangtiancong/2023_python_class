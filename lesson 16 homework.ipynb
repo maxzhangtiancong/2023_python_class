{
 "cells": [
  {
   "cell_type": "code",
   "execution_count": 9,
   "id": "e8a949ad",
   "metadata": {},
   "outputs": [
    {
     "data": {
      "text/plain": [
       "0"
      ]
     },
     "execution_count": 9,
     "metadata": {},
     "output_type": "execute_result"
    }
   ],
   "source": [
    "def see_how_many_letters(a,b):\n",
    "    counter=0\n",
    "    for i in range(len(a)):\n",
    "        if a[i]==b:\n",
    "            counter=counter+1\n",
    "    return counter\n",
    "see_how_many_letters('bigmacs','n')"
   ]
  },
  {
   "cell_type": "code",
   "execution_count": 10,
   "id": "941c6b12",
   "metadata": {},
   "outputs": [
    {
     "data": {
      "text/plain": [
       "2"
      ]
     },
     "execution_count": 10,
     "metadata": {},
     "output_type": "execute_result"
    }
   ],
   "source": [
    "\n",
    "see_how_many_letters('mom','m')"
   ]
  },
  {
   "cell_type": "code",
   "execution_count": 70,
   "id": "a1baeda4",
   "metadata": {},
   "outputs": [
    {
     "ename": "SyntaxError",
     "evalue": "invalid syntax (1608609229.py, line 1)",
     "output_type": "error",
     "traceback": [
      "\u001b[1;36m  Cell \u001b[1;32mIn[70], line 1\u001b[1;36m\u001b[0m\n\u001b[1;33m    keyword import iskeyword\u001b[0m\n\u001b[1;37m            ^\u001b[0m\n\u001b[1;31mSyntaxError\u001b[0m\u001b[1;31m:\u001b[0m invalid syntax\n"
     ]
    }
   ],
   "source": [
    " keyword import iskeyword\n",
    "\n",
    "'range'.isidentifier(), iskeyword('return')\n",
    "(True, True)"
   ]
  },
  {
   "cell_type": "code",
   "execution_count": 75,
   "id": "d6da411b",
   "metadata": {},
   "outputs": [
    {
     "data": {
      "text/plain": [
       "(True, True)"
      ]
     },
     "execution_count": 75,
     "metadata": {},
     "output_type": "execute_result"
    }
   ],
   "source": [
    "from keyword import iskeyword\n",
    "\n",
    "'import'.isidentifier(), iskeyword('import')\n",
    "(True, False)\n",
    "'def'.isidentifier(), iskeyword('def')\n",
    "(True, True)\n"
   ]
  },
  {
   "cell_type": "code",
   "execution_count": 79,
   "id": "04f543b5",
   "metadata": {},
   "outputs": [
    {
     "data": {
      "text/plain": [
       "'Hook'"
      ]
     },
     "execution_count": 79,
     "metadata": {},
     "output_type": "execute_result"
    }
   ],
   "source": [
    "'maxHook'.removeprefix('max')\n",
    "\n"
   ]
  },
  {
   "cell_type": "code",
   "execution_count": 82,
   "id": "c7b2d3df",
   "metadata": {},
   "outputs": [
    {
     "data": {
      "text/plain": [
       "'big'"
      ]
     },
     "execution_count": 82,
     "metadata": {},
     "output_type": "execute_result"
    }
   ],
   "source": [
    "'bigMax'.removesuffix('Max')\n",
    "\n"
   ]
  },
  {
   "cell_type": "code",
   "execution_count": null,
   "id": "6134884c",
   "metadata": {},
   "outputs": [],
   "source": []
  }
 ],
 "metadata": {
  "kernelspec": {
   "display_name": "Python 3 (ipykernel)",
   "language": "python",
   "name": "python3"
  },
  "language_info": {
   "codemirror_mode": {
    "name": "ipython",
    "version": 3
   },
   "file_extension": ".py",
   "mimetype": "text/x-python",
   "name": "python",
   "nbconvert_exporter": "python",
   "pygments_lexer": "ipython3",
   "version": "3.11.5"
  }
 },
 "nbformat": 4,
 "nbformat_minor": 5
}
