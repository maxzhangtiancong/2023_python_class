{
 "cells": [
  {
   "cell_type": "code",
   "execution_count": 4,
   "id": "3746d0b3",
   "metadata": {},
   "outputs": [
    {
     "name": "stdout",
     "output_type": "stream",
     "text": [
      "how old are you?11\n",
      "I am also 11\n"
     ]
    }
   ],
   "source": [
    "age=input('how old are you? ')\n",
    "print('I am also',age)"
   ]
  },
  {
   "cell_type": "code",
   "execution_count": 14,
   "id": "3675b3d4",
   "metadata": {},
   "outputs": [
    {
     "name": "stdout",
     "output_type": "stream",
     "text": [
      "how tall are you? 5ft\n",
      "I am taller than  5ft .\n"
     ]
    }
   ],
   "source": [
    "height=input('how tall are you? ')\n",
    "print ('I am taller than ',height,'.')"
   ]
  },
  {
   "cell_type": "code",
   "execution_count": null,
   "id": "bd6b6c52",
   "metadata": {},
   "outputs": [],
   "source": []
  },
  {
   "cell_type": "code",
   "execution_count": null,
   "id": "816f6b85",
   "metadata": {},
   "outputs": [],
   "source": []
  }
 ],
 "metadata": {
  "kernelspec": {
   "display_name": "Python 3 (ipykernel)",
   "language": "python",
   "name": "python3"
  },
  "language_info": {
   "codemirror_mode": {
    "name": "ipython",
    "version": 3
   },
   "file_extension": ".py",
   "mimetype": "text/x-python",
   "name": "python",
   "nbconvert_exporter": "python",
   "pygments_lexer": "ipython3",
   "version": "3.11.4"
  }
 },
 "nbformat": 4,
 "nbformat_minor": 5
}
