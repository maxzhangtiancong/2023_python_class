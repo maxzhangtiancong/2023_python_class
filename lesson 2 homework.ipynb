{
 "cells": [
  {
   "cell_type": "code",
   "execution_count": 15,
   "id": "b75df30f",
   "metadata": {},
   "outputs": [
    {
     "name": "stdout",
     "output_type": "stream",
     "text": [
      "what is yout name?xsdcvfb\n",
      "welcome to my class, xsdcvfb\n"
     ]
    }
   ],
   "source": [
    "name=input('what is yout name?')\n",
    "print('welcome to my class,', name)"
   ]
  },
  {
   "cell_type": "code",
   "execution_count": 16,
   "id": "23e3efcb",
   "metadata": {},
   "outputs": [
    {
     "name": "stdout",
     "output_type": "stream",
     "text": [
      "what is your favorite sport?fffffffffffffffffffffffffffffffffffffffffffffffffffffffffff\n",
      "ilove fffffffffffffffffffffffffffffffffffffffffffffffffffffffffff too\n"
     ]
    }
   ],
   "source": [
    "sport=input('what is your favorite sport?')\n",
    "print('ilove',sport,'too')"
   ]
  },
  {
   "cell_type": "markdown",
   "id": "88904ecc",
   "metadata": {},
   "source": [
    "# My Examples"
   ]
  },
  {
   "cell_type": "code",
   "execution_count": 4,
   "id": "c452e951",
   "metadata": {},
   "outputs": [
    {
     "name": "stdout",
     "output_type": "stream",
     "text": [
      "how old are you?11\n",
      "I am also 11\n"
     ]
    }
   ],
   "source": [
    "age=input('how old are you? ')\n",
    "print('I am also',age)"
   ]
  },
  {
   "cell_type": "code",
   "execution_count": 14,
   "id": "800ae1cf",
   "metadata": {},
   "outputs": [
    {
     "name": "stdout",
     "output_type": "stream",
     "text": [
      "how tall are you? 5ft\n",
      "I am taller than  5ft .\n"
     ]
    }
   ],
   "source": [
    "height=input('how tall are you? ')\n",
    "print ('I am taller than ', height, '.')"
   ]
  },
  {
   "cell_type": "code",
   "execution_count": null,
   "id": "38ac124f",
   "metadata": {},
   "outputs": [],
   "source": []
  }
 ],
 "metadata": {
  "kernelspec": {
   "display_name": "Python 3 (ipykernel)",
   "language": "python",
   "name": "python3"
  },
  "language_info": {
   "codemirror_mode": {
    "name": "ipython",
    "version": 3
   },
   "file_extension": ".py",
   "mimetype": "text/x-python",
   "name": "python",
   "nbconvert_exporter": "python",
   "pygments_lexer": "ipython3",
   "version": "3.11.4"
  }
 },
 "nbformat": 4,
 "nbformat_minor": 5
}
