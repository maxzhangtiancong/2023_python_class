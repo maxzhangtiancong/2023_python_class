{
 "cells": [
  {
   "cell_type": "code",
   "execution_count": 1,
   "id": "24a214a2",
   "metadata": {},
   "outputs": [],
   "source": [
    "def has_duplicates(l):\n",
    "    s=[]\n",
    "    for i in l:\n",
    "        if i not in s:\n",
    "            s.append(i)\n",
    "        else:\n",
    "            return True\n",
    "    return False\n",
    "        \n",
    "    \n",
    "    "
   ]
  },
  {
   "cell_type": "code",
   "execution_count": 2,
   "id": "7f42434e",
   "metadata": {},
   "outputs": [
    {
     "data": {
      "text/plain": [
       "True"
      ]
     },
     "execution_count": 2,
     "metadata": {},
     "output_type": "execute_result"
    }
   ],
   "source": [
    "a=(1,2,2,3,4,3)\n",
    "has_duplicates(a)"
   ]
  },
  {
   "cell_type": "code",
   "execution_count": 3,
   "id": "e1a19928",
   "metadata": {},
   "outputs": [
    {
     "data": {
      "text/plain": [
       "False"
      ]
     },
     "execution_count": 3,
     "metadata": {},
     "output_type": "execute_result"
    }
   ],
   "source": [
    "a=(2,3,4,5)\n",
    "has_duplicates(a)"
   ]
  },
  {
   "cell_type": "code",
   "execution_count": 4,
   "id": "a8c8f2a5",
   "metadata": {},
   "outputs": [
    {
     "data": {
      "text/plain": [
       "False"
      ]
     },
     "execution_count": 4,
     "metadata": {},
     "output_type": "execute_result"
    }
   ],
   "source": [
    "a=()\n",
    "has_duplicates(a)"
   ]
  },
  {
   "cell_type": "code",
   "execution_count": null,
   "id": "104b4a82",
   "metadata": {},
   "outputs": [],
   "source": []
  }
 ],
 "metadata": {
  "kernelspec": {
   "display_name": "Python 3 (ipykernel)",
   "language": "python",
   "name": "python3"
  },
  "language_info": {
   "codemirror_mode": {
    "name": "ipython",
    "version": 3
   },
   "file_extension": ".py",
   "mimetype": "text/x-python",
   "name": "python",
   "nbconvert_exporter": "python",
   "pygments_lexer": "ipython3",
   "version": "3.11.5"
  }
 },
 "nbformat": 4,
 "nbformat_minor": 5
}
