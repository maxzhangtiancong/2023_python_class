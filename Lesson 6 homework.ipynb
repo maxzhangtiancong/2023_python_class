{
 "cells": [
  {
   "cell_type": "code",
   "execution_count": 11,
   "id": "dbdeec51",
   "metadata": {},
   "outputs": [],
   "source": [
    "def Celcius_to_Farenhit(C):\n",
    "    Farenhit = Celcius*(9/5)+32\n",
    "    return Farenhit"
   ]
  },
  {
   "cell_type": "code",
   "execution_count": 12,
   "id": "1800fdc8",
   "metadata": {},
   "outputs": [
    {
     "data": {
      "text/plain": [
       "86.0"
      ]
     },
     "execution_count": 12,
     "metadata": {},
     "output_type": "execute_result"
    }
   ],
   "source": [
    "Celcius_to_Farenhit(30)"
   ]
  },
  {
   "cell_type": "code",
   "execution_count": 14,
   "id": "ccaa46b5",
   "metadata": {},
   "outputs": [],
   "source": [
    "def Yard_to_meter(yard):\n",
    "    return yard*0.914"
   ]
  },
  {
   "cell_type": "code",
   "execution_count": 16,
   "id": "f03c3a05",
   "metadata": {},
   "outputs": [
    {
     "data": {
      "text/plain": [
       "18.28"
      ]
     },
     "execution_count": 16,
     "metadata": {},
     "output_type": "execute_result"
    }
   ],
   "source": [
    "Yard_to_meter(20)"
   ]
  },
  {
   "cell_type": "code",
   "execution_count": null,
   "id": "667129ae",
   "metadata": {},
   "outputs": [],
   "source": []
  }
 ],
 "metadata": {
  "kernelspec": {
   "display_name": "Python 3 (ipykernel)",
   "language": "python",
   "name": "python3"
  },
  "language_info": {
   "codemirror_mode": {
    "name": "ipython",
    "version": 3
   },
   "file_extension": ".py",
   "mimetype": "text/x-python",
   "name": "python",
   "nbconvert_exporter": "python",
   "pygments_lexer": "ipython3",
   "version": "3.11.4"
  }
 },
 "nbformat": 4,
 "nbformat_minor": 5
}
